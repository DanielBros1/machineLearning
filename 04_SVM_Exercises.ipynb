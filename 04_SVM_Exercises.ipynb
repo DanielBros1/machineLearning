{
 "cells": [
  {
   "cell_type": "markdown",
   "metadata": {},
   "source": [
    "# Exercises\n",
    "\n",
    "In this section we have two exercises:\n",
    "1. Implement the polynomial kernel.\n",
    "2. Implement the multiclass C-SVM."
   ]
  },
  {
   "cell_type": "markdown",
   "metadata": {},
   "source": [
    "## Polynomial kernel\n",
    "\n",
    "You need to extend the ``build_kernel`` function and implement the polynomial kernel if the ``kernel_type`` is set to 'poly'. The equation that needs to be implemented:\n",
    "\\begin{equation}\n",
    "K=(X^{T}*Y)^{d}.\n",
    "\\end{equation}"
   ]
  },
  {
   "metadata": {
    "ExecuteTime": {
     "end_time": "2025-04-10T14:08:20.157855Z",
     "start_time": "2025-04-10T14:08:20.145451Z"
    }
   },
   "cell_type": "code",
   "source": "import numpy as np",
   "outputs": [],
   "execution_count": 58
  },
  {
   "metadata": {
    "ExecuteTime": {
     "end_time": "2025-04-10T14:08:20.547434Z",
     "start_time": "2025-04-10T14:08:20.533911Z"
    }
   },
   "cell_type": "code",
   "source": [
    "def build_kernel(data_set, kernel_type='linear'):\n",
    "    kernel = np.dot(data_set, data_set.T)\n",
    "    if kernel_type == 'rbf':\n",
    "        sigma = 1.0\n",
    "        objects_count = len(data_set)\n",
    "        b = np.ones((len(data_set), 1))\n",
    "        kernel -= 0.5 * (np.dot((np.diag(kernel)*np.ones((1, objects_count))).T, b.T)\n",
    "                         + np.dot(b, (np.diag(kernel) * np.ones((1, objects_count))).T.T))\n",
    "        kernel = np.exp(kernel / (2. * sigma ** 2))\n",
    "    elif kernel_type == 'poly':\n",
    "        bias = 0\n",
    "        dimens = 2\n",
    "        return (kernel + bias) ** dimens\n",
    "    return kernel"
   ],
   "outputs": [],
   "execution_count": 59
  },
  {
   "cell_type": "markdown",
   "metadata": {},
   "source": [
    "## Implement a multiclass C-SVM\n",
    "\n",
    "Use the classification method that we used in notebook 7.3 and IRIS dataset to build a multiclass C-SVM classifier. Most implementation is about a function that will return the proper data set that need to be used for the prediction. You need to implement:\n",
    "- ``choose_set_for_label``\n",
    "- ``get_labels_count``"
   ]
  },
  {
   "metadata": {
    "ExecuteTime": {
     "end_time": "2025-04-10T14:08:22.343915Z",
     "start_time": "2025-04-10T14:08:22.338131Z"
    }
   },
   "cell_type": "code",
   "source": "import cvxopt",
   "outputs": [],
   "execution_count": 60
  },
  {
   "cell_type": "code",
   "metadata": {
    "ExecuteTime": {
     "end_time": "2025-04-10T14:08:23.472556Z",
     "start_time": "2025-04-10T14:08:23.460115Z"
    }
   },
   "source": [
    "def choose_set_for_label(data_set, labels, current_label):\n",
    "    binary_labels = np.where(labels == current_label, 1, -1)\n",
    "    return data_set, binary_labels.reshape(-1 ,1)"
   ],
   "outputs": [],
   "execution_count": 61
  },
  {
   "cell_type": "code",
   "metadata": {
    "ExecuteTime": {
     "end_time": "2025-04-10T14:08:24.263757Z",
     "start_time": "2025-04-10T14:08:24.250488Z"
    }
   },
   "source": [
    "def get_labels_count(data_set):\n",
    "    return len(np.unique(data_set))"
   ],
   "outputs": [],
   "execution_count": 62
  },
  {
   "cell_type": "code",
   "metadata": {
    "ExecuteTime": {
     "end_time": "2025-04-10T14:08:24.807863Z",
     "start_time": "2025-04-10T14:08:24.795995Z"
    }
   },
   "source": [
    "def train(train_data_set, train_labels, kernel_type='linear', C=10, threshold=1e-5):\n",
    "    objects_count = len(train_data_set)  # I added here object_count, because it was used in the function, but not defined\n",
    "\n",
    "    kernel = build_kernel(train_data_set, kernel_type=kernel_type)\n",
    "\n",
    "    P = train_labels * train_labels.transpose() * kernel\n",
    "    q = -np.ones((objects_count, 1))\n",
    "    G = np.concatenate((np.eye(objects_count), -np.eye(objects_count)))\n",
    "    h = np.concatenate((C * np.ones((objects_count, 1)), np.zeros((objects_count, 1))))\n",
    "\n",
    "    A = train_labels.reshape(1, objects_count)\n",
    "    A = A.astype(float)\n",
    "    b = 0.0\n",
    "\n",
    "    sol = cvxopt.solvers.qp(cvxopt.matrix(P), cvxopt.matrix(q), cvxopt.matrix(G), cvxopt.matrix(h), cvxopt.matrix(A), cvxopt.matrix(b))\n",
    "\n",
    "    lambdas = np.array(sol['x'])\n",
    "\n",
    "    support_vectors_id = np.where(lambdas > threshold)[0]\n",
    "    vector_number = len(support_vectors_id)\n",
    "    support_vectors = train_data_set[support_vectors_id, :]\n",
    "\n",
    "    lambdas = lambdas[support_vectors_id]\n",
    "    targets = train_labels[support_vectors_id]\n",
    "\n",
    "    b = np.sum(targets)\n",
    "    for n in range(vector_number):\n",
    "        b -= np.sum(lambdas * targets * np.reshape(kernel[support_vectors_id[n], support_vectors_id], (vector_number, 1)))\n",
    "    b /= len(lambdas)\n",
    "\n",
    "    return lambdas, support_vectors, support_vectors_id, b, targets, vector_number\n",
    "\n",
    "def build_kernel(data_set, kernel_type='linear'):\n",
    "    kernel = np.dot(data_set, data_set.T)\n",
    "    if kernel_type == 'rbf':\n",
    "        sigma = 1.0\n",
    "        objects_count = len(data_set)\n",
    "        b = np.ones((len(data_set), 1))\n",
    "        kernel -= 0.5 * (np.dot((np.diag(kernel)*np.ones((1, objects_count))).T, b.T)\n",
    "                         + np.dot(b, (np.diag(kernel) * np.ones((1, objects_count))).T.T))\n",
    "        kernel = np.exp(kernel / (2. * sigma ** 2))\n",
    "    return kernel\n",
    "\n",
    "def classify_rbf(test_data_set, train_data_set, lambdas, targets, b, vector_number, support_vectors, support_vectors_id):\n",
    "    kernel = np.dot(test_data_set, support_vectors.T)\n",
    "    sigma = 1.0\n",
    "    c = (1. / sigma * np.sum(test_data_set ** 2, axis=1) * np.ones((1, np.shape(test_data_set)[0]))).T\n",
    "    c = np.dot(c, np.ones((1, np.shape(kernel)[1])))\n",
    "    sv = (np.diag(np.dot(train_data_set, train_data_set.T))*np.ones((1,len(train_data_set)))).T[support_vectors_id]\n",
    "    aa = np.dot(sv,np.ones((1,np.shape(kernel)[0]))).T\n",
    "    kernel = kernel - 0.5 * c - 0.5 * aa\n",
    "    kernel = np.exp(kernel / (2. * sigma ** 2))\n",
    "\n",
    "    y = np.zeros((np.shape(test_data_set)[0], 1))\n",
    "    for j in range(np.shape(test_data_set)[0]):\n",
    "        for i in range(vector_number):\n",
    "            y[j] += lambdas[i] * targets[i] * kernel[j, i]\n",
    "        y[j] += b\n",
    "    return np.sign(y)"
   ],
   "outputs": [],
   "execution_count": 63
  },
  {
   "metadata": {
    "ExecuteTime": {
     "end_time": "2025-04-10T14:08:25.412971Z",
     "start_time": "2025-04-10T14:08:25.399824Z"
    }
   },
   "cell_type": "code",
   "source": [
    "def multiclass_train(data_set, labels, kernel_type='linear', C=10, threshold=1e-5):\n",
    "\n",
    "    unique_labels = np.unique(labels)\n",
    "    classifiers = {}\n",
    "\n",
    "    for current_label in unique_labels:\n",
    "        binary_data, binary_labels = choose_set_for_label(data_set, labels, current_label)\n",
    "\n",
    "        lambdas, support_vectors, support_vectors_id, b, targets, vector_number = train(\n",
    "            binary_data, binary_labels, kernel_type, C, threshold)\n",
    "\n",
    "        classifiers[current_label] = {\n",
    "            'lambdas': lambdas,\n",
    "            'support_vectors': support_vectors,\n",
    "            'support_vectors_id': support_vectors_id,\n",
    "            'b': b,\n",
    "            'targets': targets,\n",
    "            'vector_number': vector_number,\n",
    "            'train_data': binary_data\n",
    "        }\n",
    "\n",
    "    return classifiers\n",
    "\n",
    "def multiclass_predict(test_data_set, classifiers):\n",
    "\n",
    "    decision_scores = np.zeros((len(test_data_set), len(classifiers)))\n",
    "\n",
    "    for i, (label, clf) in enumerate(classifiers.items()):\n",
    "        pred = classify_rbf(\n",
    "            test_data_set,\n",
    "            clf['train_data'],\n",
    "            clf['lambdas'],\n",
    "            clf['targets'],\n",
    "            clf['b'],\n",
    "            clf['vector_number'],\n",
    "            clf['support_vectors'],\n",
    "            clf['support_vectors_id']\n",
    "        )\n",
    "        decision_scores[:, i] = pred.flatten()\n",
    "\n",
    "    predicted_labels = np.array(list(classifiers.keys()))[np.argmax(decision_scores, axis=1)]\n",
    "    return predicted_labels\n"
   ],
   "outputs": [],
   "execution_count": 64
  },
  {
   "cell_type": "code",
   "metadata": {
    "ExecuteTime": {
     "end_time": "2025-04-10T14:08:26.394317Z",
     "start_time": "2025-04-10T14:08:26.148831Z"
    }
   },
   "source": [
    "from sklearn.model_selection import train_test_split\n",
    "from sklearn.metrics import accuracy_score\n",
    "from sklearn.datasets import load_iris\n",
    "from sklearn.preprocessing import StandardScaler\n",
    "iris = load_iris()\n",
    "X = iris.data\n",
    "y = iris.target\n",
    "\n",
    "scaler = StandardScaler()\n",
    "X = scaler.fit_transform(X)\n",
    "\n",
    "X_train, X_test, y_train, y_test = train_test_split(X, y, test_size=0.2, random_state=42)\n",
    "\n",
    "# Linear kernel\n",
    "classifiers = multiclass_train(X_train, y_train, kernel_type=\"linear\")\n",
    "predictions = multiclass_predict(X_test, classifiers)\n",
    "print(\"Accuracy:\", accuracy_score(y_test, predictions))\n",
    "\n",
    "# RBF kernel\n",
    "classifiers_3 = multiclass_train(X_train, y_train, kernel_type=\"rbf\")\n",
    "predictions_3 = multiclass_predict(X_test, classifiers_3)\n",
    "print(\"Accuracy with RBF kernel:\", accuracy_score(y_test, predictions_3))\n"
   ],
   "outputs": [
    {
     "name": "stdout",
     "output_type": "stream",
     "text": [
      "     pcost       dcost       gap    pres   dres\n",
      " 0: -3.1833e+01 -6.0498e+03  2e+04  6e-01  2e-14\n",
      " 1:  2.1268e+01 -1.1621e+03  2e+03  6e-02  2e-14\n",
      " 2:  2.5693e+01 -1.3301e+02  2e+02  5e-03  9e-15\n",
      " 3:  6.0334e+00 -1.0693e+01  2e+01  4e-05  4e-15\n",
      " 4:  2.7843e-01 -2.0051e+00  2e+00  2e-16  3e-15\n",
      " 5: -3.0543e-01 -1.2125e+00  9e-01  2e-16  1e-15\n",
      " 6: -6.7226e-01 -1.1977e+00  5e-01  2e-16  8e-16\n",
      " 7: -8.6027e-01 -1.1273e+00  3e-01  2e-16  7e-16\n",
      " 8: -9.7222e-01 -9.7933e-01  7e-03  2e-16  1e-15\n",
      " 9: -9.7522e-01 -9.7531e-01  1e-04  2e-16  1e-15\n",
      "10: -9.7525e-01 -9.7525e-01  1e-06  2e-16  1e-15\n",
      "Optimal solution found.\n",
      "     pcost       dcost       gap    pres   dres\n",
      " 0: -4.1986e+02 -9.8623e+03  2e+04  6e-01  4e-14\n",
      " 1: -4.1145e+02 -2.7612e+03  2e+03  2e-14  3e-14\n",
      " 2: -5.0487e+02 -9.0258e+02  4e+02  4e-14  3e-14\n",
      " 3: -6.2535e+02 -7.8161e+02  2e+02  2e-15  4e-14\n",
      " 4: -6.6315e+02 -7.2609e+02  6e+01  1e-14  4e-14\n",
      " 5: -6.7853e+02 -7.0520e+02  3e+01  1e-14  4e-14\n",
      " 6: -6.8574e+02 -6.9508e+02  9e+00  2e-15  4e-14\n",
      " 7: -6.8883e+02 -6.9061e+02  2e+00  2e-15  5e-14\n",
      " 8: -6.8946e+02 -6.8990e+02  4e-01  2e-15  5e-14\n",
      " 9: -6.8964e+02 -6.8968e+02  4e-02  4e-14  5e-14\n",
      "10: -6.8966e+02 -6.8966e+02  4e-04  5e-15  5e-14\n",
      "Optimal solution found.\n",
      "     pcost       dcost       gap    pres   dres\n",
      " 0: -2.1020e+02 -7.1983e+03  2e+04  6e-01  3e-14\n",
      " 1: -1.5098e+02 -2.5718e+03  4e+03  1e-01  2e-14\n",
      " 2: -4.7835e+01 -1.0734e+03  2e+03  5e-02  1e-14\n",
      " 3: -2.8856e+01 -2.9533e+02  4e+02  9e-03  1e-14\n",
      " 4: -5.2302e+01 -1.5988e+02  1e+02  2e-03  1e-14\n",
      " 5: -7.1322e+01 -9.4540e+01  2e+01  1e-04  1e-14\n",
      " 6: -7.5585e+01 -8.7063e+01  1e+01  6e-05  1e-14\n",
      " 7: -7.8681e+01 -8.5201e+01  7e+00  3e-06  1e-14\n",
      " 8: -8.0587e+01 -8.2140e+01  2e+00  7e-07  1e-14\n",
      " 9: -8.1161e+01 -8.1218e+01  6e-02  8e-09  2e-14\n",
      "10: -8.1188e+01 -8.1188e+01  6e-04  8e-11  1e-14\n",
      "11: -8.1188e+01 -8.1188e+01  6e-06  8e-13  2e-14\n",
      "Optimal solution found.\n",
      "Accuracy: 0.6333333333333333\n",
      "     pcost       dcost       gap    pres   dres\n",
      " 0:  1.6130e+02 -2.3858e+03  5e+03  2e-01  2e-15\n",
      " 1:  1.0517e+02 -2.3810e+02  4e+02  7e-03  3e-15\n",
      " 2:  1.2774e+01 -3.6219e+01  5e+01  1e-15  3e-15\n",
      " 3: -1.9613e+00 -8.1823e+00  6e+00  2e-16  1e-15\n",
      " 4: -3.4851e+00 -5.1720e+00  2e+00  1e-16  4e-16\n",
      " 5: -3.8113e+00 -4.6196e+00  8e-01  2e-16  4e-16\n",
      " 6: -4.1229e+00 -4.4979e+00  4e-01  2e-16  3e-16\n",
      " 7: -4.2238e+00 -4.2494e+00  3e-02  2e-16  4e-16\n",
      " 8: -4.2359e+00 -4.2380e+00  2e-03  4e-16  4e-16\n",
      " 9: -4.2370e+00 -4.2370e+00  3e-05  4e-16  4e-16\n",
      "10: -4.2370e+00 -4.2370e+00  3e-07  5e-16  4e-16\n",
      "Optimal solution found.\n",
      "     pcost       dcost       gap    pres   dres\n",
      " 0:  2.2893e+02 -4.1995e+03  7e+03  2e-01  5e-15\n",
      " 1:  9.6404e+01 -5.1594e+02  7e+02  1e-02  4e-15\n",
      " 2: -5.1388e+01 -1.8325e+02  1e+02  1e-03  3e-15\n",
      " 3: -8.1823e+01 -1.2015e+02  4e+01  3e-04  3e-15\n",
      " 4: -9.4779e+01 -1.0661e+02  1e+01  3e-05  3e-15\n",
      " 5: -9.7402e+01 -1.0408e+02  7e+00  8e-06  4e-15\n",
      " 6: -9.9166e+01 -1.0043e+02  1e+00  1e-06  4e-15\n",
      " 7: -9.9637e+01 -9.9683e+01  5e-02  1e-08  5e-15\n",
      " 8: -9.9658e+01 -9.9659e+01  8e-04  2e-10  4e-15\n",
      " 9: -9.9659e+01 -9.9659e+01  8e-06  2e-12  4e-15\n",
      "Optimal solution found.\n",
      "     pcost       dcost       gap    pres   dres\n",
      " 0:  2.1110e+02 -4.5557e+03  8e+03  3e-01  4e-15\n",
      " 1:  1.1388e+02 -5.3934e+02  7e+02  8e-03  3e-15\n",
      " 2: -3.7741e+01 -2.0101e+02  2e+02  1e-03  4e-15\n",
      " 3: -7.6623e+01 -1.1859e+02  4e+01  3e-04  4e-15\n",
      " 4: -8.7961e+01 -1.0612e+02  2e+01  8e-05  4e-15\n",
      " 5: -9.3872e+01 -9.9628e+01  6e+00  7e-06  4e-15\n",
      " 6: -9.5585e+01 -9.6142e+01  6e-01  1e-07  4e-15\n",
      " 7: -9.5764e+01 -9.5970e+01  2e-01  1e-08  5e-15\n",
      " 8: -9.5840e+01 -9.5857e+01  2e-02  5e-10  4e-15\n",
      " 9: -9.5847e+01 -9.5847e+01  2e-04  5e-12  4e-15\n",
      "10: -9.5847e+01 -9.5847e+01  2e-06  5e-14  3e-15\n",
      "Optimal solution found.\n",
      "Accuracy with RBF kernel: 1.0\n"
     ]
    }
   ],
   "execution_count": 65
  },
  {
   "metadata": {
    "ExecuteTime": {
     "end_time": "2025-04-10T14:02:16.751963Z",
     "start_time": "2025-04-10T14:02:16.738444Z"
    }
   },
   "cell_type": "code",
   "source": "",
   "outputs": [],
   "execution_count": null
  }
 ],
 "metadata": {
  "kernelspec": {
   "display_name": "Python 3",
   "language": "python",
   "name": "python3"
  },
  "language_info": {
   "codemirror_mode": {
    "name": "ipython",
    "version": 3
   },
   "file_extension": ".py",
   "mimetype": "text/x-python",
   "name": "python",
   "nbconvert_exporter": "python",
   "pygments_lexer": "ipython3",
   "version": "3.7.3"
  }
 },
 "nbformat": 4,
 "nbformat_minor": 4
}
