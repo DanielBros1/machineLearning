{
 "cells": [
  {
   "cell_type": "markdown",
   "source": [
    "# Exercises\n",
    "\n",
    "There are three exercises in this notebook:\n",
    "\n",
    "1. Use the cross-validation method to test the linear regression with different $\\alpha$ values, at least three.\n",
    "2. Implement a SGD method that will train the Lasso regression for 10 epochs.\n",
    "3. Extend the Fisher's classifier to work with two features. Use the class as the $y$."
   ],
   "metadata": {
    "collapsed": false
   }
  },
  {
   "cell_type": "code",
   "execution_count": 3,
   "outputs": [],
   "source": [
    "import random\n",
    "\n",
    "import numpy as np\n"
   ],
   "metadata": {
    "collapsed": false,
    "ExecuteTime": {
     "end_time": "2025-03-22T12:49:11.442204900Z",
     "start_time": "2025-03-22T12:49:10.157257700Z"
    }
   }
  },
  {
   "cell_type": "markdown",
   "source": [
    "## 1. Cross-Validation = linear regression\n",
    "\n",
    "You need to change the variable ``alpha`` to be a list of alphas. Next do a loop and finally compare the results."
   ],
   "metadata": {
    "collapsed": false
   }
  },
  {
   "cell_type": "code",
   "execution_count": 35,
   "metadata": {
    "ExecuteTime": {
     "end_time": "2025-03-22T21:27:56.713384200Z",
     "start_time": "2025-03-22T21:27:56.328050400Z"
    }
   },
   "outputs": [
    {
     "name": "stdout",
     "output_type": "stream",
     "text": [
      "Alpha: 0.05, w: [[-130.22804017    1.33115036]]\n",
      "Alpha: 0.1, w: [[-101.72397081    1.16978757]]\n",
      "Alpha: 0.4, w: [[-43.97286143   0.84285575]]\n",
      "Alpha: 0.8, w: [[-25.02664777   0.73559994]]\n",
      "Alpha: 1.5, w: [[-14.26728975   0.67468987]]\n",
      "Alpha: 2.0, w: [[-10.91492177   0.65571133]]\n"
     ]
    },
    {
     "data": {
      "text/plain": "<Figure size 640x480 with 1 Axes>",
      "image/png": "[encoded data removed]"
     },
     "metadata": {},
     "output_type": "display_data"
    }
   ],
   "source": [
    "x = np.array([188, 181, 197, 168, 167, 187, 178, 194, 140, 176, 168, 192, 173, 142, 176]).reshape(-1, 1).reshape(15,1)\n",
    "y = np.array([141, 106, 149, 59, 79, 136, 65, 136, 52, 87, 115, 140, 82, 69, 121]).reshape(-1, 1).reshape(15,1)\n",
    "\n",
    "x = np.asmatrix(np.c_[np.ones((15,1)),x])\n",
    "\n",
    "I = np.identity(2)\n",
    "alphas = [0.05, 0.1, 0.4, 0.8, 1.5, 2.0]\n",
    "results = {}\n",
    "\n",
    "\n",
    "for alpha in alphas:\n",
    "# add 1-3 line of code here\n",
    "    w = np.linalg.inv(x.T*x + alpha * I)*x.T*y\n",
    "    w=w.ravel()\n",
    "    results[alpha] = w\n",
    "\n",
    "# add 1-3 lines to compare the results\n",
    "for alpha in results:\n",
    "    print(f\"Alpha: {alpha}, w: {results[alpha]}\")\n",
    "\n",
    "    \n",
    "import matplotlib.pyplot as plt\n",
    "x_array = np.array(x[:,1]).flatten()\n",
    "y_array = np.array(y).flatten()\n",
    "plt.scatter(x_array, y_array, color='blue', marker='o')\n",
    "\n",
    "# # draw the lines\n",
    "plt.plot(x_array, results[0.05][0, 0] + results[0.05][0, 1]*x_array, color='red')\n",
    "plt.plot(x_array, results[0.1][0, 0] + results[0.1][0, 1]*x_array, color='green')\n",
    "plt.plot(x_array, results[0.4][0, 0] + results[0.4][0, 1]*x_array, color='yellow')\n",
    "plt.plot(x_array, results[0.8][0, 0] + results[0.8][0, 1]*x_array, color='black')\n",
    "plt.plot(x_array, results[1.5][0, 0] + results[1.5][0, 1]*x_array, color='purple')\n",
    "plt.plot(x_array, results[2.0][0, 0] + results[2.0][0, 1]*x_array, color='orange')\n",
    "\n",
    "plt.show()\n"
   ]
  },
  {
   "cell_type": "markdown",
   "metadata": {},
   "source": [
    "## 2. Implement based on the Ridge regression example, the Lasso regression.\n",
    "\n",
    "Please implement the SGD method and compare the results with the sklearn Lasso regression results. "
   ]
  },
  {
   "cell_type": "code",
   "execution_count": null,
   "metadata": {
    "ExecuteTime": {
     "start_time": "2025-03-12T15:40:29.879627700Z"
    }
   },
   "outputs": [],
   "source": [
    "def sgd(x, y, w, alpha, epochs):\n",
    "    for epoch in range(epochs):\n",
    "        for i in range(x.shape[0]):\n",
    "            random_index = random.randint(0, x.shape[0] - 1)\n",
    "            xi = x[random_index:random_index+1]\n",
    "            yi = y[random_index:random_index+1]\n",
    "            gradients = 2 * xi.T.dot(xi.dot(w) - yi)\n",
    "            w = w - alpha * gradients\n",
    "    return w\n",
    "    \n",
    "    "
   ]
  },
  {
   "cell_type": "code",
   "execution_count": null,
   "metadata": {
    "ExecuteTime": {
     "start_time": "2025-03-12T15:40:29.879627700Z"
    }
   },
   "outputs": [],
   "source": [
    "x = np.array([188, 181, 197, 168, 167, 187, 178, 194, 140, 176, 168, 192, 173, 142, 176]).reshape(-1, 1).reshape(15,1)\n",
    "y = np.array([141, 106, 149, 59, 79, 136, 65, 136, 52, 87, 115, 140, 82, 69, 121]).reshape(-1, 1).reshape(15,1)\n",
    "\n",
    "x = np.asmatrix(np.c_[np.ones((15,1)),x])\n",
    "\n",
    "I = np.identity(2)\n",
    "alpha = 0.1 \n",
    "epochs = 10\n",
    "\n",
    "\n",
    "w0, w1 = random.uniform(-1, 1), random.uniform(-1, 1)\n",
    "\n",
    "\n",
    "w = np.linalg.inv(x.T*x + alpha * I)*x.T*y # update this line\n",
    "w=w.ravel()\n"
   ]
  },
  {
   "cell_type": "markdown",
   "metadata": {},
   "source": [
    "## 3. Extend the Fisher's classifier\n",
    "\n",
    "Please extend the targets of the ``iris_data`` variable and use it as the $y$."
   ]
  },
  {
   "cell_type": "code",
   "execution_count": 10,
   "metadata": {
    "ExecuteTime": {
     "end_time": "2025-03-12T16:18:59.892688700Z",
     "start_time": "2025-03-12T16:18:59.869269500Z"
    }
   },
   "outputs": [
    {
     "name": "stdout",
     "output_type": "stream",
     "text": [
      "['sepal length (cm)', 'sepal width (cm)', 'petal length (cm)', 'petal width (cm)']\n",
      "['setosa' 'versicolor' 'virginica']\n"
     ]
    }
   ],
   "source": [
    "import pandas as pd\n",
    "import numpy as np\n",
    "import matplotlib.pyplot as plt\n",
    "from sklearn.datasets import load_iris\n",
    "\n",
    "iris_data = load_iris()\n",
    "iris_df = pd.DataFrame(iris_data.data,columns=iris_data.feature_names)\n",
    "iris_df['class'] = iris_data.target\n",
    "\n",
    "x1 = iris_df['sepal width (cm)'].values\n",
    "x2 = iris_df['sepal length (cm)'].values \n",
    "y = iris_df['class'].values\n",
    "\n",
    "dataset_size = np.size(x)\n",
    "\n",
    "mean_x, mean_y = np.mean(x), np.mean(y)\n",
    "\n",
    "SS_xy = np.sum(y * x) - dataset_size * mean_y * mean_x\n",
    "SS_xx = np.sum(x * x) - dataset_size * mean_x * mean_x\n",
    "\n",
    "a = SS_xy / SS_xx\n",
    "b = mean_y - a * mean_x\n",
    "\n",
    "# print all features\n",
    "print(iris_data.feature_names)\n",
    "print(iris_data.target_names)\n",
    "\n",
    "y_pred = a * x + b"
   ]
  },
  {
   "cell_type": "code",
   "execution_count": null,
   "outputs": [],
   "source": [],
   "metadata": {
    "collapsed": false
   }
  }
 ],
 "metadata": {
  "kernelspec": {
   "display_name": "Python 3",
   "language": "python",
   "name": "python3"
  },
  "language_info": {
   "codemirror_mode": {
    "name": "ipython",
    "version": 3
   },
   "file_extension": ".py",
   "mimetype": "text/x-python",
   "name": "python",
   "nbconvert_exporter": "python",
   "pygments_lexer": "ipython3",
   "version": "3.6.9"
  }
 },
 "nbformat": 4,
 "nbformat_minor": 4
}
